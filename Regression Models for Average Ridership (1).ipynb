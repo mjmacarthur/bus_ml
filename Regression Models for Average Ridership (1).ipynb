{
 "cells": [
  {
   "cell_type": "code",
   "execution_count": 1,
   "metadata": {
    "id": "RsOardHe_hZy"
   },
   "outputs": [],
   "source": [
    "import numpy as np\n",
    "import pandas as pd\n",
    "import seaborn as sns\n",
    "from matplotlib import pyplot as plt\n",
    "from sklearn.metrics import mean_squared_error\n",
    "from sklearn.linear_model import LinearRegression\n",
    "from sklearn.preprocessing import PolynomialFeatures\n",
    "from sklearn.model_selection import train_test_split, LeaveOneOut, KFold, cross_val_score\n",
    "from sklearn.linear_model import Ridge, RidgeCV, Lasso, LassoCV\n",
    "from sklearn.feature_selection import SequentialFeatureSelector\n",
    "from sklearn.neighbors import KNeighborsClassifier\n",
    "from sklearn import metrics\n",
    "from sklearn.metrics import confusion_matrix, ConfusionMatrixDisplay, classification_report\n",
    "from sklearn import preprocessing\n",
    "from sklearn import neighbors\n",
    "from sklearn.metrics import r2_score \n",
    "import time\n",
    "from sklearn.feature_selection import SequentialFeatureSelector\n",
    "\n",
    "from sklearn.naive_bayes import GaussianNB\n",
    "\n",
    "%matplotlib inline\n",
    "plt.style.use('seaborn-white')"
   ]
  },
  {
   "cell_type": "code",
   "execution_count": 49,
   "metadata": {},
   "outputs": [
    {
     "data": {
      "text/html": [
       "<div>\n",
       "<style scoped>\n",
       "    .dataframe tbody tr th:only-of-type {\n",
       "        vertical-align: middle;\n",
       "    }\n",
       "\n",
       "    .dataframe tbody tr th {\n",
       "        vertical-align: top;\n",
       "    }\n",
       "\n",
       "    .dataframe thead th {\n",
       "        text-align: right;\n",
       "    }\n",
       "</style>\n",
       "<table border=\"1\" class=\"dataframe\">\n",
       "  <thead>\n",
       "    <tr style=\"text-align: right;\">\n",
       "      <th></th>\n",
       "      <th>ridership_route_code</th>\n",
       "      <th>current_garage</th>\n",
       "      <th>year_month</th>\n",
       "      <th>day_type</th>\n",
       "      <th>on_time_percent</th>\n",
       "      <th>avg_riders</th>\n",
       "      <th>day_count</th>\n",
       "      <th>daily_trip_dist</th>\n",
       "      <th>daily_trip_count</th>\n",
       "      <th>year</th>\n",
       "      <th>month</th>\n",
       "      <th>current_garage_code</th>\n",
       "      <th>day_type_code</th>\n",
       "    </tr>\n",
       "  </thead>\n",
       "  <tbody>\n",
       "    <tr>\n",
       "      <th>0</th>\n",
       "      <td>001</td>\n",
       "      <td>Ross</td>\n",
       "      <td>201701</td>\n",
       "      <td>WEEKDAY</td>\n",
       "      <td>0.6837</td>\n",
       "      <td>1552</td>\n",
       "      <td>22</td>\n",
       "      <td>1158.621</td>\n",
       "      <td>47</td>\n",
       "      <td>2017</td>\n",
       "      <td>1</td>\n",
       "      <td>3</td>\n",
       "      <td>2</td>\n",
       "    </tr>\n",
       "    <tr>\n",
       "      <th>1</th>\n",
       "      <td>001</td>\n",
       "      <td>Ross</td>\n",
       "      <td>201701</td>\n",
       "      <td>SAT.</td>\n",
       "      <td>0.6977</td>\n",
       "      <td>970</td>\n",
       "      <td>4</td>\n",
       "      <td>739.695</td>\n",
       "      <td>30</td>\n",
       "      <td>2017</td>\n",
       "      <td>1</td>\n",
       "      <td>3</td>\n",
       "      <td>0</td>\n",
       "    </tr>\n",
       "    <tr>\n",
       "      <th>2</th>\n",
       "      <td>001</td>\n",
       "      <td>Ross</td>\n",
       "      <td>201701</td>\n",
       "      <td>SUN.</td>\n",
       "      <td>0.6280</td>\n",
       "      <td>737</td>\n",
       "      <td>5</td>\n",
       "      <td>641.069</td>\n",
       "      <td>26</td>\n",
       "      <td>2017</td>\n",
       "      <td>1</td>\n",
       "      <td>3</td>\n",
       "      <td>1</td>\n",
       "    </tr>\n",
       "    <tr>\n",
       "      <th>3</th>\n",
       "      <td>002</td>\n",
       "      <td>Ross</td>\n",
       "      <td>201701</td>\n",
       "      <td>WEEKDAY</td>\n",
       "      <td>0.6978</td>\n",
       "      <td>1020</td>\n",
       "      <td>22</td>\n",
       "      <td>1006.109</td>\n",
       "      <td>54</td>\n",
       "      <td>2017</td>\n",
       "      <td>1</td>\n",
       "      <td>3</td>\n",
       "      <td>2</td>\n",
       "    </tr>\n",
       "    <tr>\n",
       "      <th>4</th>\n",
       "      <td>004</td>\n",
       "      <td>Ross</td>\n",
       "      <td>201701</td>\n",
       "      <td>WEEKDAY</td>\n",
       "      <td>0.7438</td>\n",
       "      <td>684</td>\n",
       "      <td>22</td>\n",
       "      <td>283.652</td>\n",
       "      <td>46</td>\n",
       "      <td>2017</td>\n",
       "      <td>1</td>\n",
       "      <td>3</td>\n",
       "      <td>2</td>\n",
       "    </tr>\n",
       "  </tbody>\n",
       "</table>\n",
       "</div>"
      ],
      "text/plain": [
       "  ridership_route_code current_garage  year_month day_type  on_time_percent  \\\n",
       "0                  001           Ross      201701  WEEKDAY           0.6837   \n",
       "1                  001           Ross      201701     SAT.           0.6977   \n",
       "2                  001           Ross      201701     SUN.           0.6280   \n",
       "3                  002           Ross      201701  WEEKDAY           0.6978   \n",
       "4                  004           Ross      201701  WEEKDAY           0.7438   \n",
       "\n",
       "   avg_riders  day_count  daily_trip_dist  daily_trip_count  year  month  \\\n",
       "0        1552         22         1158.621                47  2017      1   \n",
       "1         970          4          739.695                30  2017      1   \n",
       "2         737          5          641.069                26  2017      1   \n",
       "3        1020         22         1006.109                54  2017      1   \n",
       "4         684         22          283.652                46  2017      1   \n",
       "\n",
       "   current_garage_code  day_type_code  \n",
       "0                    3              2  \n",
       "1                    3              0  \n",
       "2                    3              1  \n",
       "3                    3              2  \n",
       "4                    3              2  "
      ]
     },
     "execution_count": 49,
     "metadata": {},
     "output_type": "execute_result"
    }
   ],
   "source": [
    "all_data = pd.read_csv(r'C:\\Users\\queen\\Downloads\\new_data.csv')\n",
    "all_data.head()"
   ]
  },
  {
   "cell_type": "code",
   "execution_count": 50,
   "metadata": {},
   "outputs": [
    {
     "name": "stdout",
     "output_type": "stream",
     "text": [
      "(13025, 13) (13025,)\n"
     ]
    }
   ],
   "source": [
    "#Creates a dummy variable to identify months that occurred during or before the pandemic\n",
    "all_data.loc[all_data.year_month >= 202001, 'Pandemic'] = 1\n",
    "all_data.loc[all_data.year_month < 202001, 'Pandemic'] = 0\n",
    "#Creates an x and y set, were the y variable is average monthly ridership\n",
    "y = all_data['avg_riders']\n",
    "x = all_data.drop(columns=['avg_riders'])\n",
    "\n",
    "print(x.shape,y.shape)\n",
    "\n",
    "#Splits the data into a training and test set\n",
    "x_train, x_test, y_train, y_test = train_test_split(x,y,\n",
    "                                                   test_size=0.3,\n",
    "                                                   random_state=0)"
   ]
  },
  {
   "cell_type": "code",
   "execution_count": 52,
   "metadata": {},
   "outputs": [
    {
     "name": "stdout",
     "output_type": "stream",
     "text": [
      "(9117, 9) (3908, 9)\n",
      "(9117,) (3908,)\n"
     ]
    },
    {
     "data": {
      "text/html": [
       "<div>\n",
       "<style scoped>\n",
       "    .dataframe tbody tr th:only-of-type {\n",
       "        vertical-align: middle;\n",
       "    }\n",
       "\n",
       "    .dataframe tbody tr th {\n",
       "        vertical-align: top;\n",
       "    }\n",
       "\n",
       "    .dataframe thead th {\n",
       "        text-align: right;\n",
       "    }\n",
       "</style>\n",
       "<table border=\"1\" class=\"dataframe\">\n",
       "  <thead>\n",
       "    <tr style=\"text-align: right;\">\n",
       "      <th></th>\n",
       "      <th>year_month</th>\n",
       "      <th>on_time_percent</th>\n",
       "      <th>daily_trip_dist</th>\n",
       "      <th>daily_trip_count</th>\n",
       "      <th>year</th>\n",
       "      <th>month</th>\n",
       "      <th>current_garage_code</th>\n",
       "      <th>day_type_code</th>\n",
       "      <th>Pandemic</th>\n",
       "    </tr>\n",
       "  </thead>\n",
       "  <tbody>\n",
       "    <tr>\n",
       "      <th>7479</th>\n",
       "      <td>201904</td>\n",
       "      <td>0.6083</td>\n",
       "      <td>1176.768</td>\n",
       "      <td>48</td>\n",
       "      <td>2019</td>\n",
       "      <td>4</td>\n",
       "      <td>3</td>\n",
       "      <td>2</td>\n",
       "      <td>0.0</td>\n",
       "    </tr>\n",
       "    <tr>\n",
       "      <th>6446</th>\n",
       "      <td>201812</td>\n",
       "      <td>0.7959</td>\n",
       "      <td>69.375</td>\n",
       "      <td>23</td>\n",
       "      <td>2018</td>\n",
       "      <td>12</td>\n",
       "      <td>3</td>\n",
       "      <td>2</td>\n",
       "      <td>0.0</td>\n",
       "    </tr>\n",
       "    <tr>\n",
       "      <th>4770</th>\n",
       "      <td>201806</td>\n",
       "      <td>0.7715</td>\n",
       "      <td>156.459</td>\n",
       "      <td>25</td>\n",
       "      <td>2018</td>\n",
       "      <td>6</td>\n",
       "      <td>0</td>\n",
       "      <td>0</td>\n",
       "      <td>0.0</td>\n",
       "    </tr>\n",
       "    <tr>\n",
       "      <th>3896</th>\n",
       "      <td>201803</td>\n",
       "      <td>0.6278</td>\n",
       "      <td>2068.040</td>\n",
       "      <td>80</td>\n",
       "      <td>2018</td>\n",
       "      <td>3</td>\n",
       "      <td>1</td>\n",
       "      <td>2</td>\n",
       "      <td>0.0</td>\n",
       "    </tr>\n",
       "    <tr>\n",
       "      <th>5090</th>\n",
       "      <td>201807</td>\n",
       "      <td>0.6306</td>\n",
       "      <td>719.210</td>\n",
       "      <td>74</td>\n",
       "      <td>2018</td>\n",
       "      <td>7</td>\n",
       "      <td>3</td>\n",
       "      <td>0</td>\n",
       "      <td>0.0</td>\n",
       "    </tr>\n",
       "  </tbody>\n",
       "</table>\n",
       "</div>"
      ],
      "text/plain": [
       "      year_month  on_time_percent  daily_trip_dist  daily_trip_count  year  \\\n",
       "7479      201904           0.6083         1176.768                48  2019   \n",
       "6446      201812           0.7959           69.375                23  2018   \n",
       "4770      201806           0.7715          156.459                25  2018   \n",
       "3896      201803           0.6278         2068.040                80  2018   \n",
       "5090      201807           0.6306          719.210                74  2018   \n",
       "\n",
       "      month  current_garage_code  day_type_code  Pandemic  \n",
       "7479      4                    3              2       0.0  \n",
       "6446     12                    3              2       0.0  \n",
       "4770      6                    0              0       0.0  \n",
       "3896      3                    1              2       0.0  \n",
       "5090      7                    3              0       0.0  "
      ]
     },
     "execution_count": 52,
     "metadata": {},
     "output_type": "execute_result"
    }
   ],
   "source": [
    "x_train = x_train.drop(columns=['ridership_route_code','day_count','current_garage','day_type'])\n",
    "x_test = x_test.drop(columns=['ridership_route_code','day_count','current_garage','day_type'])\n",
    "\n",
    "print(x_train.shape, x_test.shape)\n",
    "print(y_train.shape, y_test.shape)\n",
    "x_train.head()"
   ]
  },
  {
   "cell_type": "code",
   "execution_count": null,
   "metadata": {},
   "outputs": [],
   "source": [
    "First we test a linear regression model on the data."
   ]
  },
  {
   "cell_type": "code",
   "execution_count": 80,
   "metadata": {},
   "outputs": [
    {
     "name": "stdout",
     "output_type": "stream",
     "text": [
      "1 features selected by forward sequential selection: Index(['daily_trip_count'], dtype='object')\n",
      "CV error: -1367321.3120749902\n",
      "2 features selected by forward sequential selection: Index(['daily_trip_count', 'Pandemic'], dtype='object')\n",
      "CV error: -1032935.4714162055\n",
      "3 features selected by forward sequential selection: Index(['on_time_percent', 'daily_trip_count', 'Pandemic'], dtype='object')\n",
      "CV error: -1001324.2584047575\n",
      "4 features selected by forward sequential selection: Index(['on_time_percent', 'daily_trip_count', 'current_garage_code',\n",
      "       'Pandemic'],\n",
      "      dtype='object')\n",
      "CV error: -978989.2931552834\n",
      "5 features selected by forward sequential selection: Index(['on_time_percent', 'daily_trip_count', 'current_garage_code',\n",
      "       'day_type_code', 'Pandemic'],\n",
      "      dtype='object')\n",
      "CV error: -966285.3049075773\n",
      "6 features selected by forward sequential selection: Index(['on_time_percent', 'daily_trip_count', 'year', 'current_garage_code',\n",
      "       'day_type_code', 'Pandemic'],\n",
      "      dtype='object')\n",
      "CV error: -965708.9608738807\n",
      "7 features selected by forward sequential selection: Index(['on_time_percent', 'daily_trip_dist', 'daily_trip_count', 'year',\n",
      "       'current_garage_code', 'day_type_code', 'Pandemic'],\n",
      "      dtype='object')\n",
      "CV error: -965612.2190956648\n",
      "8 features selected by forward sequential selection: Index(['year_month', 'on_time_percent', 'daily_trip_dist', 'daily_trip_count',\n",
      "       'year', 'current_garage_code', 'day_type_code', 'Pandemic'],\n",
      "      dtype='object')\n",
      "CV error: -965985.3381060895\n"
     ]
    }
   ],
   "source": [
    "model = LinearRegression()\n",
    "    \n",
    "for i in range(1, x_train.shape[1]): \n",
    "    sfs = SequentialFeatureSelector(model, \n",
    "                                n_features_to_select = i, \n",
    "                                direction=\"forward\",\n",
    "                                scoring='neg_mean_squared_error',\n",
    "                                cv=10) \n",
    "    sfs = sfs.fit(x_train,y_train)\n",
    "    feature_names = x_train.columns\n",
    "    print(str(i)+\" features selected by forward sequential selection: \"+str(feature_names[sfs.get_support()])) \n",
    "    X_selected = sfs.transform(x_test) \n",
    "    CV_error = np.mean(cross_val_score(model, X_selected, y_test, scoring='neg_mean_squared_error', cv=10)) #calculates CV error by taking the mean cross_val_score\n",
    "    print(\"CV error: \"+str(CV_error))"
   ]
  },
  {
   "cell_type": "markdown",
   "metadata": {},
   "source": [
    "The linear model with 7 features selected has the lowest test MSE error. Below, we fit a linear model with all features to compare to the model with only 7 features."
   ]
  },
  {
   "cell_type": "code",
   "execution_count": 84,
   "metadata": {},
   "outputs": [
    {
     "name": "stdout",
     "output_type": "stream",
     "text": [
      "Train R2 value =  0.5160348183706605\n",
      "Test R2 value =  0.5058872651898392\n",
      "Train MSE =  942973.1282756843\n",
      "Test MSE =  954702.9405170439\n"
     ]
    },
    {
     "data": {
      "text/html": [
       "<div>\n",
       "<style scoped>\n",
       "    .dataframe tbody tr th:only-of-type {\n",
       "        vertical-align: middle;\n",
       "    }\n",
       "\n",
       "    .dataframe tbody tr th {\n",
       "        vertical-align: top;\n",
       "    }\n",
       "\n",
       "    .dataframe thead th {\n",
       "        text-align: right;\n",
       "    }\n",
       "</style>\n",
       "<table border=\"1\" class=\"dataframe\">\n",
       "  <thead>\n",
       "    <tr style=\"text-align: right;\">\n",
       "      <th></th>\n",
       "      <th>0</th>\n",
       "      <th>Features</th>\n",
       "    </tr>\n",
       "  </thead>\n",
       "  <tbody>\n",
       "    <tr>\n",
       "      <th>0</th>\n",
       "      <td>0.440489</td>\n",
       "      <td>year_month</td>\n",
       "    </tr>\n",
       "    <tr>\n",
       "      <th>1</th>\n",
       "      <td>-2443.761888</td>\n",
       "      <td>on_time_percent</td>\n",
       "    </tr>\n",
       "    <tr>\n",
       "      <th>2</th>\n",
       "      <td>-0.051911</td>\n",
       "      <td>daily_trip_dist</td>\n",
       "    </tr>\n",
       "    <tr>\n",
       "      <th>3</th>\n",
       "      <td>19.123003</td>\n",
       "      <td>daily_trip_count</td>\n",
       "    </tr>\n",
       "    <tr>\n",
       "      <th>4</th>\n",
       "      <td>0.023615</td>\n",
       "      <td>year</td>\n",
       "    </tr>\n",
       "    <tr>\n",
       "      <th>5</th>\n",
       "      <td>-1.920993</td>\n",
       "      <td>month</td>\n",
       "    </tr>\n",
       "    <tr>\n",
       "      <th>6</th>\n",
       "      <td>94.751790</td>\n",
       "      <td>current_garage_code</td>\n",
       "    </tr>\n",
       "    <tr>\n",
       "      <th>7</th>\n",
       "      <td>134.289462</td>\n",
       "      <td>day_type_code</td>\n",
       "    </tr>\n",
       "    <tr>\n",
       "      <th>8</th>\n",
       "      <td>-1436.407521</td>\n",
       "      <td>Pandemic</td>\n",
       "    </tr>\n",
       "  </tbody>\n",
       "</table>\n",
       "</div>"
      ],
      "text/plain": [
       "             0             Features\n",
       "0     0.440489           year_month\n",
       "1 -2443.761888      on_time_percent\n",
       "2    -0.051911      daily_trip_dist\n",
       "3    19.123003     daily_trip_count\n",
       "4     0.023615                 year\n",
       "5    -1.920993                month\n",
       "6    94.751790  current_garage_code\n",
       "7   134.289462        day_type_code\n",
       "8 -1436.407521             Pandemic"
      ]
     },
     "execution_count": 84,
     "metadata": {},
     "output_type": "execute_result"
    }
   ],
   "source": [
    "#Creates a linear regression object and fits it to the training data\n",
    "lm = LinearRegression().fit(x_train,y_train)\n",
    "\n",
    "y_train_pred = lm.predict(x_train)\n",
    "y_test_pred = lm.predict(x_test)\n",
    "\n",
    "print('Train R2 value = ',lm.score(x_train,y_train))\n",
    "print('Test R2 value = ',lm.score(x_test,y_test))\n",
    "\n",
    "print('Train MSE = ',mean_squared_error(y_train,y_train_pred))   \n",
    "print('Test MSE = ',mean_squared_error(y_test,y_test_pred))\n",
    "#Prints coefficients found by the model\n",
    "coefficients = pd.DataFrame(lm.coef_)\n",
    "coefficients['Features'] = feature_names\n",
    "coefficients"
   ]
  },
  {
   "cell_type": "markdown",
   "metadata": {},
   "source": [
    "The model with all features selected is the best linear model because the test MSE is even lower. \n",
    "\n",
    "From the coefficients produced by the model, we can interpret the average relationships between each feature and average monthly ridership. For example, increasing year_month one month into the future increases average ridership by just 0.44. Riding on a weekday as opposed to a Sunday increases average ridership by about 134. Oddly, increasing on time percentage by 1 decreases average ridership by about 2444. \n",
    "\n",
    "Since the linear regression only had a test R squared of about 0.51, other models may do better at predicting average ridership. I test a decision tree model below to see if its predictions will improve."
   ]
  },
  {
   "cell_type": "code",
   "execution_count": 55,
   "metadata": {},
   "outputs": [
    {
     "name": "stdout",
     "output_type": "stream",
     "text": [
      "Train R2 value =  1.0\n",
      "Test R2 value =  0.962121784471742\n",
      "Train MSE =  0.0\n",
      "Test MSE =  73186.62563971341\n"
     ]
    }
   ],
   "source": [
    "from sklearn.tree import DecisionTreeRegressor\n",
    "dt = DecisionTreeRegressor(random_state=0).fit(x_train,y_train)\n",
    "\n",
    "y_train_pred = dt.predict(x_train)\n",
    "y_test_pred = dt.predict(x_test)\n",
    "\n",
    "print('Train R2 value = ',dt.score(x_train,y_train))\n",
    "print('Test R2 value = ',dt.score(x_test,y_test))\n",
    "\n",
    "print('Train MSE = ',mean_squared_error(y_train,y_train_pred))  \n",
    "print('Test MSE = ',mean_squared_error(y_test,y_test_pred))"
   ]
  },
  {
   "cell_type": "markdown",
   "metadata": {},
   "source": [
    "These test R squared and MSE values are much better. To see if we can improve the model further, we use grid search cross validation to tune the decision tree model."
   ]
  },
  {
   "cell_type": "code",
   "execution_count": 63,
   "metadata": {},
   "outputs": [
    {
     "name": "stdout",
     "output_type": "stream",
     "text": [
      "Best minimum samples per leaf node: 3\n",
      "Best maximum number of features: auto\n",
      "Best maximum depth: 20\n",
      "Test set score: 0.96\n"
     ]
    }
   ],
   "source": [
    "from sklearn.model_selection import GridSearchCV\n",
    "dt_grid = {'min_samples_leaf': [1,2,3,5,8,10,15],'max_features': ['auto','sqrt','log2'], 'max_depth': [2,3,5,8,10,15,20,25,30]}\n",
    "grid_search = GridSearchCV(DecisionTreeRegressor(random_state=0), dt_grid, cv=10, return_train_score=True)\n",
    "best_dt_model = grid_search.fit(x_train, y_train)\n",
    "#calculates and prints the best parameter for each of the three parameters that were tuned above\n",
    "best_min_samples = best_dt_model.best_estimator_.get_params()['min_samples_leaf']\n",
    "best_max_feat = best_dt_model.best_estimator_.get_params()['max_features']\n",
    "best_max_depth = best_dt_model.best_estimator_.get_params()['max_depth']\n",
    "print(\"Best minimum samples per leaf node: \"+str(best_min_samples))\n",
    "print(\"Best maximum number of features: \"+str(best_max_feat))\n",
    "print(\"Best maximum depth: \"+str(best_max_depth))\n",
    "print(\"Test set score: {:.2f}\".format(grid_search.score(x_test,y_test)))"
   ]
  },
  {
   "cell_type": "code",
   "execution_count": 66,
   "metadata": {},
   "outputs": [
    {
     "name": "stdout",
     "output_type": "stream",
     "text": [
      "Train R2 value =  0.9918033520568886\n",
      "Test R2 value =  0.9620777039914716\n",
      "Train MSE =  15970.609138179443\n",
      "Test MSE =  73271.79600908209\n"
     ]
    }
   ],
   "source": [
    "#Refits decision tree model with best parameters\n",
    "dt_tuned = DecisionTreeRegressor(min_samples_leaf=best_min_samples, max_features=best_max_feat, max_depth=best_max_depth, random_state=0)\n",
    "dt_tuned.fit(x_train, y_train)\n",
    "y_train_pred = dt_tuned.predict(x_train)\n",
    "y_test_pred = dt_tuned.predict(x_test)\n",
    "\n",
    "print('Train R2 value = ',dt_tuned.score(x_train,y_train))\n",
    "print('Test R2 value = ',dt_tuned.score(x_test,y_test))\n",
    "\n",
    "print('Train MSE = ',mean_squared_error(y_train,y_train_pred)) \n",
    "print('Test MSE = ',mean_squared_error(y_test,y_test_pred))"
   ]
  },
  {
   "cell_type": "markdown",
   "metadata": {},
   "source": [
    "The tuned model above did not perform better than the original model. We make another attempt to improve the model by leaving out one of the parameters chosen by the grid search."
   ]
  },
  {
   "cell_type": "code",
   "execution_count": 69,
   "metadata": {},
   "outputs": [
    {
     "name": "stdout",
     "output_type": "stream",
     "text": [
      "Train R2 value =  0.9918042058363794\n",
      "Test R2 value =  0.9622818545352622\n",
      "Train MSE =  15968.9456071076\n",
      "Test MSE =  72877.34528815535\n"
     ]
    }
   ],
   "source": [
    "#Refits decision tree model using all of the best parameters found by grid search except for max depth\n",
    "dt_tuned = DecisionTreeRegressor(min_samples_leaf=best_min_samples, max_features=best_max_feat, random_state=0)\n",
    "dt_tuned.fit(x_train, y_train)\n",
    "y_train_pred = dt_tuned.predict(x_train)\n",
    "y_test_pred = dt_tuned.predict(x_test)\n",
    "\n",
    "print('Train R2 value = ',dt_tuned.score(x_train,y_train))\n",
    "print('Test R2 value = ',dt_tuned.score(x_test,y_test))\n",
    "\n",
    "print('Train MSE = ',mean_squared_error(y_train,y_train_pred)) \n",
    "print('Test MSE = ',mean_squared_error(y_test,y_test_pred))"
   ]
  },
  {
   "cell_type": "markdown",
   "metadata": {},
   "source": [
    "This did improve the test R squared and test MSE. To see if another model will do better, we test a random forest regressor model below."
   ]
  },
  {
   "cell_type": "code",
   "execution_count": 70,
   "metadata": {},
   "outputs": [
    {
     "name": "stdout",
     "output_type": "stream",
     "text": [
      "Train R2 value =  0.9969283318904071\n",
      "Test R2 value =  0.9786257266177766\n",
      "Train MSE =  5984.935686026106\n",
      "Test MSE =  41298.43295227738\n"
     ]
    }
   ],
   "source": [
    "from sklearn.ensemble import RandomForestRegressor\n",
    "rf = RandomForestRegressor(random_state=0).fit(x_train,y_train)\n",
    "\n",
    "y_train_pred = rf.predict(x_train)\n",
    "y_test_pred = rf.predict(x_test)\n",
    "\n",
    "print('Train R2 value = ',rf.score(x_train,y_train))\n",
    "print('Test R2 value = ',rf.score(x_test,y_test))\n",
    "\n",
    "print('Train MSE = ',mean_squared_error(y_train,y_train_pred))   \n",
    "print('Test MSE = ',mean_squared_error(y_test,y_test_pred))"
   ]
  },
  {
   "cell_type": "markdown",
   "metadata": {},
   "source": [
    "This random forest model had a slightly better test R2 and test MSE value than the decision tree models, so now we used grid search cross validation to tune the random forest model and see if it improves."
   ]
  },
  {
   "cell_type": "code",
   "execution_count": 72,
   "metadata": {},
   "outputs": [
    {
     "name": "stdout",
     "output_type": "stream",
     "text": [
      "Best number of trees/estimators: 200\n",
      "Best minimum samples per leaf node: 1\n",
      "Best maximum number of features: auto\n",
      "Best maximum depth: 20\n",
      "Test set score: 0.98\n"
     ]
    }
   ],
   "source": [
    "rf_grid = {'n_estimators': [10, 20, 50, 100, 150, 200], 'min_samples_leaf': [1,2,3,5],'max_features': ['auto','sqrt','log2'], 'max_depth': [5,8,10,15,20]}\n",
    "grid_search = GridSearchCV(RandomForestRegressor(), rf_grid, cv=10, return_train_score=True)\n",
    "best_rf_model = grid_search.fit(x_train, y_train)\n",
    "#calculates and prints the best parameter for each of the four parameters that were tuned above\n",
    "best_n_est = best_rf_model.best_estimator_.get_params()['n_estimators']\n",
    "best_min_samples = best_rf_model.best_estimator_.get_params()['min_samples_leaf']\n",
    "best_max_feat = best_rf_model.best_estimator_.get_params()['max_features']\n",
    "best_max_depth = best_rf_model.best_estimator_.get_params()['max_depth']\n",
    "print(\"Best number of trees/estimators: \"+str(best_n_est))\n",
    "print(\"Best minimum samples per leaf node: \"+str(best_min_samples))\n",
    "print(\"Best maximum number of features: \"+str(best_max_feat))\n",
    "print(\"Best maximum depth: \"+str(best_max_depth))\n",
    "print(\"Test set score: {:.2f}\".format(grid_search.score(x_test,y_test)))"
   ]
  },
  {
   "cell_type": "code",
   "execution_count": 73,
   "metadata": {},
   "outputs": [
    {
     "name": "stdout",
     "output_type": "stream",
     "text": [
      "Train R2 value =  0.997016272350537\n",
      "Test R2 value =  0.9787515558572513\n",
      "Train MSE =  5813.589700946035\n",
      "Test MSE =  41055.31121817426\n"
     ]
    }
   ],
   "source": [
    "#Refits random forest model with best parameters\n",
    "rf_tuned = RandomForestRegressor(n_estimators=best_n_est, min_samples_leaf=best_min_samples, max_features=best_max_feat, random_state=0)\n",
    "rf_tuned.fit(x_train, y_train)\n",
    "y_train_pred = rf_tuned.predict(x_train)\n",
    "y_test_pred = rf_tuned.predict(x_test)\n",
    "\n",
    "print('Train R2 value = ',rf_tuned.score(x_train,y_train))\n",
    "print('Test R2 value = ',rf_tuned.score(x_test,y_test))\n",
    "\n",
    "print('Train MSE = ',mean_squared_error(y_train,y_train_pred)) \n",
    "print('Test MSE = ',mean_squared_error(y_test,y_test_pred))"
   ]
  },
  {
   "cell_type": "markdown",
   "metadata": {},
   "source": [
    "This refitted random forests model has the best test R squared and test MSE values of any model we have tested so far. Thus, we use this model as our best model. Below, we determine and plot the feature importances for this model."
   ]
  },
  {
   "cell_type": "code",
   "execution_count": 75,
   "metadata": {},
   "outputs": [
    {
     "data": {
      "text/plain": [
       "Text(0.5, 0, 'Features')"
      ]
     },
     "execution_count": 75,
     "metadata": {},
     "output_type": "execute_result"
    },
    {
     "data": {
      "image/png": "[encoded data removed]",
      "text/plain": [
       "<Figure size 432x288 with 1 Axes>"
      ]
     },
     "metadata": {},
     "output_type": "display_data"
    }
   ],
   "source": [
    "#Sreates a dataframe with feature importances\n",
    "forest_importances = pd.DataFrame({'features': x_train.columns, 'importances': rf_tuned.feature_importances_})\n",
    "#uses this dataframe to create a bar plot of the feature importances\n",
    "sns.barplot(x=\"features\",y=\"importances\" ,data=forest_importances, \n",
    "            order=forest_importances.sort_values('importances',ascending = False).features, palette=\"Blues_d\")\n",
    "plt.xticks(rotation=90)\n",
    "plt.title(\"Feature Importance for Random Forest Model\")\n",
    "plt.ylabel(\"Feature importance\")\n",
    "plt.xlabel(\"Features\")"
   ]
  },
  {
   "cell_type": "markdown",
   "metadata": {},
   "source": [
    "The most important features in predicting average monthly ridership are the daily trip count, month and year, and the daily trip distance. "
   ]
  },
  {
   "cell_type": "code",
   "execution_count": null,
   "metadata": {},
   "outputs": [],
   "source": [
    " "
   ]
  },
  {
   "cell_type": "code",
   "execution_count": null,
   "metadata": {
    "id": "J8ybIKkq_haO"
   },
   "outputs": [],
   "source": []
  }
 ],
 "metadata": {
  "colab": {
   "name": "Data Cleaning and Question Definition - Final.ipynb",
   "provenance": []
  },
  "kernelspec": {
   "display_name": "Python 3",
   "language": "python",
   "name": "python3"
  },
  "language_info": {
   "codemirror_mode": {
    "name": "ipython",
    "version": 3
   },
   "file_extension": ".py",
   "mimetype": "text/x-python",
   "name": "python",
   "nbconvert_exporter": "python",
   "pygments_lexer": "ipython3",
   "version": "3.8.8"
  }
 },
 "nbformat": 4,
 "nbformat_minor": 1
}
